{
 "cells": [
  {
   "cell_type": "code",
   "execution_count": 19,
   "metadata": {},
   "outputs": [],
   "source": [
    "# Import dependencies\n",
    "import pandas as pd\n",
    "import pymongo\n",
    "import requests\n",
    "from splinter import Browser\n",
    "from bs4 import BeautifulSoup\n",
    "from webdriver_manager.chrome import ChromeDriverManager"
   ]
  },
  {
   "cell_type": "code",
   "execution_count": 20,
   "metadata": {},
   "outputs": [
    {
     "data": {
      "text/html": [
       "<div>\n",
       "<style scoped>\n",
       "    .dataframe tbody tr th:only-of-type {\n",
       "        vertical-align: middle;\n",
       "    }\n",
       "\n",
       "    .dataframe tbody tr th {\n",
       "        vertical-align: top;\n",
       "    }\n",
       "\n",
       "    .dataframe thead th {\n",
       "        text-align: right;\n",
       "    }\n",
       "</style>\n",
       "<table border=\"1\" class=\"dataframe\">\n",
       "  <thead>\n",
       "    <tr style=\"text-align: right;\">\n",
       "      <th></th>\n",
       "      <th>SNo</th>\n",
       "      <th>County or equivalent</th>\n",
       "      <th>State or district</th>\n",
       "      <th>Rank</th>\n",
       "      <th>Population</th>\n",
       "      <th>Core Based Statistical Area</th>\n",
       "      <th>Combined Statistical Area</th>\n",
       "    </tr>\n",
       "  </thead>\n",
       "  <tbody>\n",
       "    <tr>\n",
       "      <th>0</th>\n",
       "      <td>1</td>\n",
       "      <td>Autauga County</td>\n",
       "      <td>Alabama</td>\n",
       "      <td>907</td>\n",
       "      <td>55514</td>\n",
       "      <td>Montgomery, AL Metropolitan Statistical Area</td>\n",
       "      <td>NaN</td>\n",
       "    </tr>\n",
       "    <tr>\n",
       "      <th>1</th>\n",
       "      <td>2</td>\n",
       "      <td>Baldwin County</td>\n",
       "      <td>Alabama</td>\n",
       "      <td>332</td>\n",
       "      <td>1,90,790</td>\n",
       "      <td>Daphne-Fairhope-Foley, AL Micropolitan Statist...</td>\n",
       "      <td>Mobile-Daphne-Fairhope, AL Combined Statistica...</td>\n",
       "    </tr>\n",
       "    <tr>\n",
       "      <th>2</th>\n",
       "      <td>3</td>\n",
       "      <td>Barbour County</td>\n",
       "      <td>Alabama</td>\n",
       "      <td>1523</td>\n",
       "      <td>27201</td>\n",
       "      <td>NaN</td>\n",
       "      <td>NaN</td>\n",
       "    </tr>\n",
       "    <tr>\n",
       "      <th>3</th>\n",
       "      <td>4</td>\n",
       "      <td>Bibb County</td>\n",
       "      <td>Alabama</td>\n",
       "      <td>1707</td>\n",
       "      <td>22597</td>\n",
       "      <td>Birmingham-Hoover, AL Metropolitan Statistical...</td>\n",
       "      <td>Birmingham-Hoover-Talladega, AL Combined Stati...</td>\n",
       "    </tr>\n",
       "    <tr>\n",
       "      <th>4</th>\n",
       "      <td>5</td>\n",
       "      <td>Blount County</td>\n",
       "      <td>Alabama</td>\n",
       "      <td>882</td>\n",
       "      <td>57826</td>\n",
       "      <td>Birmingham-Hoover, AL Metropolitan Statistical...</td>\n",
       "      <td>Birmingham-Hoover-Talladega, AL Combined Stati...</td>\n",
       "    </tr>\n",
       "  </tbody>\n",
       "</table>\n",
       "</div>"
      ],
      "text/plain": [
       "   SNo County or equivalent State or district  Rank Population  \\\n",
       "0    1       Autauga County           Alabama   907      55514   \n",
       "1    2       Baldwin County           Alabama   332   1,90,790   \n",
       "2    3       Barbour County           Alabama  1523      27201   \n",
       "3    4          Bibb County           Alabama  1707      22597   \n",
       "4    5        Blount County           Alabama   882      57826   \n",
       "\n",
       "                         Core Based Statistical Area  \\\n",
       "0       Montgomery, AL Metropolitan Statistical Area   \n",
       "1  Daphne-Fairhope-Foley, AL Micropolitan Statist...   \n",
       "2                                                NaN   \n",
       "3  Birmingham-Hoover, AL Metropolitan Statistical...   \n",
       "4  Birmingham-Hoover, AL Metropolitan Statistical...   \n",
       "\n",
       "                           Combined Statistical Area  \n",
       "0                                                NaN  \n",
       "1  Mobile-Daphne-Fairhope, AL Combined Statistica...  \n",
       "2                                                NaN  \n",
       "3  Birmingham-Hoover-Talladega, AL Combined Stati...  \n",
       "4  Birmingham-Hoover-Talladega, AL Combined Stati...  "
      ]
     },
     "execution_count": 20,
     "metadata": {},
     "output_type": "execute_result"
    }
   ],
   "source": [
    "counties = pd.read_excel('list-counties-us.xlsx')\n",
    "counties.head()"
   ]
  },
  {
   "cell_type": "code",
   "execution_count": 21,
   "metadata": {},
   "outputs": [
    {
     "data": {
      "text/plain": [
       "0    Autauga_County,_Alabama\n",
       "1    Baldwin_County,_Alabama\n",
       "2    Barbour_County,_Alabama\n",
       "3       Bibb_County,_Alabama\n",
       "4     Blount_County,_Alabama\n",
       "dtype: object"
      ]
     },
     "execution_count": 21,
     "metadata": {},
     "output_type": "execute_result"
    }
   ],
   "source": [
    "county_name = counties['County or equivalent'].str.replace(' ','_')\n",
    "county_name.head()\n",
    "\n",
    "state_name = counties['State or district']\n",
    "state_name.head()\n",
    "\n",
    "countyfullname = county_name + ',_' + state_name\n",
    "countyfullname.head()"
   ]
  },
  {
   "cell_type": "code",
   "execution_count": 30,
   "metadata": {},
   "outputs": [
    {
     "name": "stderr",
     "output_type": "stream",
     "text": [
      "[WDM] - Current google-chrome version is 88.0.4324\n",
      "[WDM] - Get LATEST driver version for 88.0.4324\n"
     ]
    },
    {
     "name": "stdout",
     "output_type": "stream",
     "text": [
      "0     Autauga_County,_Alabama\n",
      "1     Baldwin_County,_Alabama\n",
      "2     Barbour_County,_Alabama\n",
      "3        Bibb_County,_Alabama\n",
      "4      Blount_County,_Alabama\n",
      "5     Bullock_County,_Alabama\n",
      "6      Butler_County,_Alabama\n",
      "7     Calhoun_County,_Alabama\n",
      "8    Chambers_County,_Alabama\n",
      "9    Cherokee_County,_Alabama\n",
      "dtype: object\n",
      " \n"
     ]
    },
    {
     "name": "stderr",
     "output_type": "stream",
     "text": [
      "[WDM] - Driver [C:\\Users\\nicko\\.wdm\\drivers\\chromedriver\\win32\\88.0.4324.96\\chromedriver.exe] found in cache\n"
     ]
    }
   ],
   "source": [
    "# URL of page to be scraped  \n",
    "reviews_list = []\n",
    "\n",
    "#list of counties\n",
    "counties = countyfullname [:10] \n",
    "print(counties)\n",
    "executable_path = {'executable_path': ChromeDriverManager().install()}\n",
    "browser = Browser('chrome', **executable_path, headless=False)"
   ]
  },
  {
   "cell_type": "code",
   "execution_count": 39,
   "metadata": {},
   "outputs": [
    {
     "name": "stdout",
     "output_type": "stream",
     "text": [
      "https://en.wikipedia.org/wiki/Autauga_County,_Alabama\n",
      "https://en.wikipedia.org/wiki/Baldwin_County,_Alabama\n",
      "https://en.wikipedia.org/wiki/Barbour_County,_Alabama\n",
      "https://en.wikipedia.org/wiki/Bibb_County,_Alabama\n",
      "https://en.wikipedia.org/wiki/Blount_County,_Alabama\n"
     ]
    }
   ],
   "source": [
    "img_list = []\n",
    "\n",
    "for county in counties[:5]:\n",
    "    \n",
    "    url = f'https://en.wikipedia.org/wiki/{county}'\n",
    "    print(url)\n",
    "   \n",
    "    \n",
    "\n",
    "    #------splinter\n",
    "    browser.visit(url)\n",
    "    #time.sleep(3) # Sleep for 3 seconds\n",
    "    html = browser.html\n",
    "    #Create BeautifulSoup object; parse with 'html.parser'\n",
    "    soup = BeautifulSoup(html, 'html.parser')\n",
    "    \n",
    "    trs = soup.find('tr', class_='mergedtoprow')\n",
    "    \n",
    "    for tr in trs:\n",
    "        img = tr.img\n",
    "        descr =  tr.div\n",
    "        img_src = f\"https:{img['src']}\"\n",
    "        img_descr = descr.text\n",
    "        \n",
    "        img_dict = {\n",
    "            'county': county,\n",
    "            'img_src': img_src,\n",
    "            'img_descr': img_descr\n",
    "        }\n",
    "        \n",
    "        img_list.append(img_dict)\n",
    "    \n",
    "    "
   ]
  },
  {
   "cell_type": "code",
   "execution_count": 40,
   "metadata": {},
   "outputs": [
    {
     "data": {
      "text/html": [
       "<div>\n",
       "<style scoped>\n",
       "    .dataframe tbody tr th:only-of-type {\n",
       "        vertical-align: middle;\n",
       "    }\n",
       "\n",
       "    .dataframe tbody tr th {\n",
       "        vertical-align: top;\n",
       "    }\n",
       "\n",
       "    .dataframe thead th {\n",
       "        text-align: right;\n",
       "    }\n",
       "</style>\n",
       "<table border=\"1\" class=\"dataframe\">\n",
       "  <thead>\n",
       "    <tr style=\"text-align: right;\">\n",
       "      <th></th>\n",
       "      <th>county</th>\n",
       "      <th>img_src</th>\n",
       "      <th>img_descr</th>\n",
       "    </tr>\n",
       "  </thead>\n",
       "  <tbody>\n",
       "    <tr>\n",
       "      <th>0</th>\n",
       "      <td>Autauga_County,_Alabama</td>\n",
       "      <td>https://upload.wikimedia.org/wikipedia/commons...</td>\n",
       "      <td>Autauga County Courthouse in Prattville</td>\n",
       "    </tr>\n",
       "    <tr>\n",
       "      <th>1</th>\n",
       "      <td>Baldwin_County,_Alabama</td>\n",
       "      <td>https://upload.wikimedia.org/wikipedia/commons...</td>\n",
       "      <td>The Baldwin County Courthouse in Bay Minette</td>\n",
       "    </tr>\n",
       "    <tr>\n",
       "      <th>2</th>\n",
       "      <td>Barbour_County,_Alabama</td>\n",
       "      <td>https://upload.wikimedia.org/wikipedia/commons...</td>\n",
       "      <td>Barbour County courthouse in Clayton</td>\n",
       "    </tr>\n",
       "    <tr>\n",
       "      <th>3</th>\n",
       "      <td>Bibb_County,_Alabama</td>\n",
       "      <td>https://upload.wikimedia.org/wikipedia/commons...</td>\n",
       "      <td>Bibb County Courthouse and Confederate monumen...</td>\n",
       "    </tr>\n",
       "    <tr>\n",
       "      <th>4</th>\n",
       "      <td>Blount_County,_Alabama</td>\n",
       "      <td>https://upload.wikimedia.org/wikipedia/commons...</td>\n",
       "      <td>Blount County Courthouse in Oneonta, Alabama</td>\n",
       "    </tr>\n",
       "  </tbody>\n",
       "</table>\n",
       "</div>"
      ],
      "text/plain": [
       "                    county                                            img_src  \\\n",
       "0  Autauga_County,_Alabama  https://upload.wikimedia.org/wikipedia/commons...   \n",
       "1  Baldwin_County,_Alabama  https://upload.wikimedia.org/wikipedia/commons...   \n",
       "2  Barbour_County,_Alabama  https://upload.wikimedia.org/wikipedia/commons...   \n",
       "3     Bibb_County,_Alabama  https://upload.wikimedia.org/wikipedia/commons...   \n",
       "4   Blount_County,_Alabama  https://upload.wikimedia.org/wikipedia/commons...   \n",
       "\n",
       "                                           img_descr  \n",
       "0            Autauga County Courthouse in Prattville  \n",
       "1       The Baldwin County Courthouse in Bay Minette  \n",
       "2               Barbour County courthouse in Clayton  \n",
       "3  Bibb County Courthouse and Confederate monumen...  \n",
       "4       Blount County Courthouse in Oneonta, Alabama  "
      ]
     },
     "execution_count": 40,
     "metadata": {},
     "output_type": "execute_result"
    }
   ],
   "source": [
    "img_df = pd.DataFrame(img_list)\n",
    "img_df.head()"
   ]
  },
  {
   "cell_type": "code",
   "execution_count": null,
   "metadata": {},
   "outputs": [],
   "source": [
    " "
   ]
  }
 ],
 "metadata": {
  "kernelspec": {
   "display_name": "Python 3",
   "language": "python",
   "name": "python3"
  },
  "language_info": {
   "codemirror_mode": {
    "name": "ipython",
    "version": 3
   },
   "file_extension": ".py",
   "mimetype": "text/x-python",
   "name": "python",
   "nbconvert_exporter": "python",
   "pygments_lexer": "ipython3",
   "version": "3.8.3"
  }
 },
 "nbformat": 4,
 "nbformat_minor": 4
}
